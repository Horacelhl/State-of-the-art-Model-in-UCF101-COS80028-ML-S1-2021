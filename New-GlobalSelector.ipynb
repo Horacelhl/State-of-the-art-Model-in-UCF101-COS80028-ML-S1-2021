{
 "cells": [
  {
   "cell_type": "code",
   "execution_count": 1,
   "metadata": {
    "scrolled": true
   },
   "outputs": [
    {
     "name": "stdout",
     "output_type": "stream",
     "text": [
      "WARNING:tensorflow:There are non-GPU devices in `tf.distribute.Strategy`, not using nccl allreduce.\n",
      "INFO:tensorflow:Using MirroredStrategy with devices ('/job:localhost/replica:0/task:0/device:CPU:0',)\n",
      "####################################################################################################\n",
      "Number of devices: 1\n",
      "####################################################################################################\n"
     ]
    }
   ],
   "source": [
    "# Swinburne uni Machine learning Course final project\n",
    "# creator: Qiyuan zhu\n",
    "# Initalized: 28-03-2021\n",
    "# Project: Actiong recognition in knowledge distilling\n",
    "\n",
    "import os\n",
    "import sys\n",
    "import numpy as np\n",
    "import pandas as pd\n",
    "import Data_processing as Dp\n",
    "import GlobalSelector as Glo\n",
    "import tensorflow as tf\n",
    "from tensorflow import keras\n",
    "from tensorflow.keras.callbacks import EarlyStopping\n",
    "\n",
    "strategy = tf.distribute.MirroredStrategy()\n",
    "\n",
    "print (\"#\" * 100)\n",
    "print ('Number of devices: {}'.format(strategy.num_replicas_in_sync))\n",
    "print (\"#\" * 100)"
   ]
  },
  {
   "cell_type": "markdown",
   "metadata": {},
   "source": [
    "### 1.0 Read data"
   ]
  },
  {
   "cell_type": "code",
   "execution_count": 2,
   "metadata": {},
   "outputs": [],
   "source": [
    "# Video options\n",
    "_INPUT_SIZE = 224\n",
    "_NUM_FRAMES = 64\n"
   ]
  },
  {
   "cell_type": "code",
   "execution_count": 3,
   "metadata": {},
   "outputs": [],
   "source": [
    "record_base_path = \"C:\\\\Users\\\\laiho\\\\Desktop\\\\machine_learning_project-cos80028\\\\UCF\\\\UCF_final_testing\""
   ]
  },
  {
   "cell_type": "code",
   "execution_count": 4,
   "metadata": {},
   "outputs": [],
   "source": [
    "video_list, label = Dp.load_dataset(record_base_path)"
   ]
  },
  {
   "cell_type": "markdown",
   "metadata": {},
   "source": [
    "### 2.0 generate feature "
   ]
  },
  {
   "cell_type": "code",
   "execution_count": 5,
   "metadata": {},
   "outputs": [
    {
     "name": "stdout",
     "output_type": "stream",
     "text": [
      "(1280, 1, 224, 224, 3)\n"
     ]
    }
   ],
   "source": [
    "raw_input, raw_label = Dp.data_load(video_list, label)"
   ]
  },
  {
   "cell_type": "code",
   "execution_count": 6,
   "metadata": {
    "scrolled": true
   },
   "outputs": [],
   "source": [
    "single_selector_input = Dp.feature_extraction(raw_input)\n",
    "single_selector_input = tf.convert_to_tensor(single_selector_input)\n"
   ]
  },
  {
   "cell_type": "code",
   "execution_count": 7,
   "metadata": {},
   "outputs": [
    {
     "name": "stdout",
     "output_type": "stream",
     "text": [
      "(1280, 1, 6000) prepared_pair\n"
     ]
    }
   ],
   "source": [
    "global_selector_pair_input = Dp.random_pair_generation(single_selector_input)  # train X"
   ]
  },
  {
   "cell_type": "code",
   "execution_count": 8,
   "metadata": {},
   "outputs": [
    {
     "name": "stdout",
     "output_type": "stream",
     "text": [
      "tf.Tensor(\n",
      "[[[ 3.9047253e-04  7.9621671e-04  2.2631395e-03 ... -5.7218000e-03\n",
      "    1.6466001e-01 -3.9074001e-01]]\n",
      "\n",
      " [[ 4.3815366e-04  1.7802168e-04  6.2966318e-04 ... -5.7218000e-03\n",
      "    1.6466001e-01 -3.9074001e-01]]\n",
      "\n",
      " [[ 3.6820435e-04  6.6704740e-04  1.1037615e-03 ... -5.7218000e-03\n",
      "    1.6466001e-01 -3.9074001e-01]]\n",
      "\n",
      " ...\n",
      "\n",
      " [[ 1.7245753e-03  5.4329156e-04  1.3617958e-03 ... -5.7218000e-03\n",
      "    1.6466001e-01 -3.9074001e-01]]\n",
      "\n",
      " [[ 2.2686922e-03  1.0179336e-03  3.8820758e-04 ... -5.7218000e-03\n",
      "    1.6466001e-01 -3.9074001e-01]]\n",
      "\n",
      " [[ 1.2774186e-03  1.5165649e-03  9.3110104e-04 ... -5.7218000e-03\n",
      "    1.6466001e-01 -3.9074001e-01]]], shape=(1280, 1, 6000), dtype=float32)\n"
     ]
    }
   ],
   "source": [
    "print(global_selector_pair_input)"
   ]
  },
  {
   "cell_type": "code",
   "execution_count": 9,
   "metadata": {},
   "outputs": [
    {
     "name": "stdout",
     "output_type": "stream",
     "text": [
      "(1280,)\n"
     ]
    }
   ],
   "source": [
    "final_label = Dp.get_list_label(raw_label)\n",
    "print(final_label.shape)   # train Y"
   ]
  },
  {
   "cell_type": "code",
   "execution_count": 10,
   "metadata": {},
   "outputs": [],
   "source": [
    "final_label2= pd.get_dummies(final_label)"
   ]
  },
  {
   "cell_type": "markdown",
   "metadata": {},
   "source": [
    "### 4.0 model"
   ]
  },
  {
   "cell_type": "code",
   "execution_count": 12,
   "metadata": {
    "scrolled": false
   },
   "outputs": [
    {
     "name": "stdout",
     "output_type": "stream",
     "text": [
      "omega (None, 1024)\n",
      "hi (None, 1024)\n",
      "lambda (None, 1024)\n",
      "gama (None, 1024)\n",
      "ct (None, 1024)\n",
      "representation (None, 1024)\n",
      "Model: \"model\"\n",
      "__________________________________________________________________________________________________\n",
      "Layer (type)                    Output Shape         Param #     Connected to                     \n",
      "==================================================================================================\n",
      "input_3 (InputLayer)            [(None, 1, 6000)]    0                                            \n",
      "__________________________________________________________________________________________________\n",
      "flatten_2561 (Flatten)          (None, 6000)         0           input_3[0][0]                    \n",
      "__________________________________________________________________________________________________\n",
      "dense_1280 (Dense)              (None, 1024)         6145024     flatten_2561[0][0]               \n",
      "__________________________________________________________________________________________________\n",
      "alpha_i (Dense)                 (None, 1024)         1049600     dense_1280[0][0]                 \n",
      "__________________________________________________________________________________________________\n",
      "tf.math.multiply_58 (TFOpLambda (None, 1024)         0           alpha_i[0][0]                    \n",
      "                                                                 dense_1280[0][0]                 \n",
      "__________________________________________________________________________________________________\n",
      "tf.math.truediv (TFOpLambda)    (None, 1024)         0           tf.math.multiply_58[0][0]        \n",
      "                                                                 alpha_i[0][0]                    \n",
      "__________________________________________________________________________________________________\n",
      "concatenate_2560 (Concatenate)  (None, 2048)         0           dense_1280[0][0]                 \n",
      "                                                                 tf.math.truediv[0][0]            \n",
      "__________________________________________________________________________________________________\n",
      "beta_i (Dense)                  (None, 1024)         2098176     concatenate_2560[0][0]           \n",
      "__________________________________________________________________________________________________\n",
      "tf.math.multiply_59 (TFOpLambda (None, 1024)         0           beta_i[0][0]                     \n",
      "                                                                 dense_1280[0][0]                 \n",
      "__________________________________________________________________________________________________\n",
      "tf.expand_dims (TFOpLambda)     (None, 1, 1024)      0           tf.math.multiply_59[0][0]        \n",
      "__________________________________________________________________________________________________\n",
      "lstm (LSTM)                     (None, 1024)         8392704     tf.expand_dims[0][0]             \n",
      "__________________________________________________________________________________________________\n",
      "softmax (Softmax)               (None, 1024)         0           lstm[0][0]                       \n",
      "__________________________________________________________________________________________________\n",
      "tf.math.multiply_60 (TFOpLambda (None, 1024)         0           softmax[0][0]                    \n",
      "                                                                 tf.math.multiply_59[0][0]        \n",
      "__________________________________________________________________________________________________\n",
      "tf.math.truediv_1 (TFOpLambda)  (None, 1024)         0           tf.math.multiply_60[0][0]        \n",
      "                                                                 softmax[0][0]                    \n",
      "__________________________________________________________________________________________________\n",
      "concatenate_2561 (Concatenate)  (None, 2048)         0           tf.math.multiply_59[0][0]        \n",
      "                                                                 tf.math.truediv_1[0][0]          \n",
      "__________________________________________________________________________________________________\n",
      "Gamma_i (Dense)                 (None, 1024)         2098176     concatenate_2561[0][0]           \n",
      "__________________________________________________________________________________________________\n",
      "tf.math.multiply_61 (TFOpLambda (None, 1024)         0           Gamma_i[0][0]                    \n",
      "                                                                 lstm[0][0]                       \n",
      "__________________________________________________________________________________________________\n",
      "flatten_2562 (Flatten)          (None, 1024)         0           tf.math.multiply_61[0][0]        \n",
      "__________________________________________________________________________________________________\n",
      "dense_1281 (Dense)              (None, 128)          131200      flatten_2562[0][0]               \n",
      "__________________________________________________________________________________________________\n",
      "dense_1282 (Dense)              (None, 10)           1290        dense_1281[0][0]                 \n",
      "==================================================================================================\n",
      "Total params: 19,916,170\n",
      "Trainable params: 19,916,170\n",
      "Non-trainable params: 0\n",
      "__________________________________________________________________________________________________\n",
      "None\n"
     ]
    }
   ],
   "source": [
    "model = Glo.create_global_frame_selector(num_class = 10)\n",
    "\n",
    "print(model.summary())"
   ]
  },
  {
   "cell_type": "code",
   "execution_count": 13,
   "metadata": {
    "scrolled": false
   },
   "outputs": [
    {
     "name": "stdout",
     "output_type": "stream",
     "text": [
      "Epoch 1/100\n",
      "40/40 - 6s - loss: 1.8644 - accuracy: 0.3391\n",
      "Epoch 2/100\n",
      "40/40 - 6s - loss: 1.3475 - accuracy: 0.4203\n",
      "Epoch 3/100\n",
      "40/40 - 5s - loss: 1.3055 - accuracy: 0.4328\n",
      "Epoch 4/100\n",
      "40/40 - 5s - loss: 1.2814 - accuracy: 0.4469\n",
      "Epoch 5/100\n",
      "40/40 - 5s - loss: 1.2591 - accuracy: 0.4359\n",
      "Epoch 6/100\n",
      "40/40 - 5s - loss: 1.2452 - accuracy: 0.4672\n",
      "Epoch 7/100\n",
      "40/40 - 5s - loss: 1.2540 - accuracy: 0.4688\n",
      "Epoch 8/100\n",
      "40/40 - 5s - loss: 1.2391 - accuracy: 0.4586\n",
      "Epoch 9/100\n",
      "40/40 - 5s - loss: 1.2377 - accuracy: 0.4664\n",
      "Epoch 10/100\n",
      "40/40 - 6s - loss: 1.2438 - accuracy: 0.4391\n",
      "Epoch 11/100\n",
      "40/40 - 5s - loss: 1.2364 - accuracy: 0.4594\n",
      "Epoch 12/100\n",
      "40/40 - 5s - loss: 1.2352 - accuracy: 0.4586\n",
      "Epoch 13/100\n",
      "40/40 - 6s - loss: 1.2313 - accuracy: 0.4625\n",
      "Epoch 14/100\n",
      "40/40 - 6s - loss: 1.2186 - accuracy: 0.4859\n",
      "Epoch 15/100\n",
      "40/40 - 5s - loss: 1.2303 - accuracy: 0.4508\n",
      "Epoch 16/100\n",
      "40/40 - 5s - loss: 1.2260 - accuracy: 0.4664\n",
      "Epoch 17/100\n",
      "40/40 - 6s - loss: 1.2196 - accuracy: 0.4625\n",
      "Epoch 18/100\n",
      "40/40 - 6s - loss: 1.2223 - accuracy: 0.4703\n",
      "Epoch 19/100\n",
      "40/40 - 5s - loss: 1.2188 - accuracy: 0.4633\n",
      "Epoch 20/100\n",
      "40/40 - 6s - loss: 1.2118 - accuracy: 0.4688\n",
      "Epoch 21/100\n",
      "40/40 - 6s - loss: 1.2144 - accuracy: 0.4625\n",
      "Epoch 22/100\n",
      "40/40 - 6s - loss: 1.2222 - accuracy: 0.4664\n",
      "Epoch 23/100\n",
      "40/40 - 6s - loss: 1.2196 - accuracy: 0.4695\n",
      "Epoch 24/100\n",
      "40/40 - 5s - loss: 1.2150 - accuracy: 0.4664\n",
      "Epoch 25/100\n",
      "40/40 - 6s - loss: 1.2131 - accuracy: 0.4609\n",
      "Epoch 26/100\n",
      "40/40 - 6s - loss: 1.2126 - accuracy: 0.4875\n",
      "Epoch 27/100\n",
      "40/40 - 5s - loss: 1.2119 - accuracy: 0.4500\n",
      "Epoch 28/100\n",
      "40/40 - 6s - loss: 1.2086 - accuracy: 0.4758\n",
      "Epoch 29/100\n",
      "40/40 - 6s - loss: 1.2129 - accuracy: 0.4711\n",
      "Epoch 30/100\n",
      "40/40 - 6s - loss: 1.2064 - accuracy: 0.4656\n",
      "Epoch 31/100\n",
      "40/40 - 6s - loss: 1.2119 - accuracy: 0.4563\n",
      "Epoch 32/100\n",
      "40/40 - 6s - loss: 1.2122 - accuracy: 0.4812\n",
      "Epoch 33/100\n",
      "40/40 - 6s - loss: 1.2087 - accuracy: 0.4781\n",
      "Epoch 34/100\n",
      "40/40 - 6s - loss: 1.2078 - accuracy: 0.4672\n",
      "Epoch 35/100\n",
      "40/40 - 6s - loss: 1.2104 - accuracy: 0.4680\n",
      "Epoch 36/100\n",
      "40/40 - 6s - loss: 1.2089 - accuracy: 0.4641\n",
      "Epoch 37/100\n",
      "40/40 - 6s - loss: 1.2065 - accuracy: 0.4719\n",
      "Epoch 38/100\n",
      "40/40 - 6s - loss: 1.2028 - accuracy: 0.4742\n",
      "Epoch 39/100\n",
      "40/40 - 5s - loss: 1.2109 - accuracy: 0.4648\n",
      "Epoch 40/100\n",
      "40/40 - 6s - loss: 1.2110 - accuracy: 0.4672\n",
      "Epoch 41/100\n",
      "40/40 - 5s - loss: 1.2081 - accuracy: 0.4789\n",
      "Epoch 42/100\n",
      "40/40 - 6s - loss: 1.2056 - accuracy: 0.4953\n",
      "Epoch 43/100\n",
      "40/40 - 5s - loss: 1.2083 - accuracy: 0.4617\n",
      "Epoch 44/100\n",
      "40/40 - 6s - loss: 1.2013 - accuracy: 0.4828\n",
      "Epoch 45/100\n",
      "40/40 - 6s - loss: 1.2086 - accuracy: 0.4711\n",
      "Epoch 46/100\n",
      "40/40 - 6s - loss: 1.2061 - accuracy: 0.4766\n",
      "Epoch 47/100\n",
      "40/40 - 6s - loss: 1.1969 - accuracy: 0.4852\n",
      "Epoch 48/100\n",
      "40/40 - 6s - loss: 1.2150 - accuracy: 0.4688\n",
      "Epoch 49/100\n",
      "40/40 - 6s - loss: 1.1988 - accuracy: 0.4797\n",
      "Epoch 50/100\n",
      "40/40 - 6s - loss: 1.2043 - accuracy: 0.4797\n",
      "Epoch 51/100\n",
      "40/40 - 6s - loss: 1.2065 - accuracy: 0.4703\n",
      "Epoch 52/100\n",
      "40/40 - 6s - loss: 1.1991 - accuracy: 0.4742\n",
      "Epoch 53/100\n",
      "40/40 - 6s - loss: 1.2004 - accuracy: 0.4727\n",
      "Epoch 54/100\n",
      "40/40 - 6s - loss: 1.2009 - accuracy: 0.4781\n",
      "Epoch 55/100\n",
      "40/40 - 6s - loss: 1.2037 - accuracy: 0.4773\n",
      "Epoch 56/100\n",
      "40/40 - 6s - loss: 1.2052 - accuracy: 0.4672\n",
      "Epoch 57/100\n",
      "40/40 - 6s - loss: 1.2009 - accuracy: 0.4844\n",
      "Epoch 58/100\n",
      "40/40 - 6s - loss: 1.2040 - accuracy: 0.4758\n",
      "Epoch 59/100\n",
      "40/40 - 6s - loss: 1.1955 - accuracy: 0.4789\n",
      "Epoch 60/100\n",
      "40/40 - 5s - loss: 1.2120 - accuracy: 0.4781\n",
      "Epoch 61/100\n",
      "40/40 - 6s - loss: 1.1985 - accuracy: 0.4773\n",
      "Epoch 62/100\n",
      "40/40 - 6s - loss: 1.2045 - accuracy: 0.4656\n",
      "Epoch 63/100\n",
      "40/40 - 6s - loss: 1.2022 - accuracy: 0.4789\n",
      "Epoch 64/100\n",
      "40/40 - 6s - loss: 1.2011 - accuracy: 0.4805\n",
      "Epoch 65/100\n",
      "40/40 - 6s - loss: 1.1987 - accuracy: 0.4828\n",
      "Epoch 66/100\n",
      "40/40 - 6s - loss: 1.2080 - accuracy: 0.4758\n",
      "Epoch 67/100\n",
      "40/40 - 6s - loss: 1.2002 - accuracy: 0.4797\n",
      "Epoch 68/100\n",
      "40/40 - 6s - loss: 1.2063 - accuracy: 0.4836\n",
      "Epoch 69/100\n",
      "40/40 - 6s - loss: 1.2069 - accuracy: 0.4703\n",
      "Epoch 70/100\n",
      "40/40 - 6s - loss: 1.2031 - accuracy: 0.4695\n",
      "Epoch 71/100\n",
      "40/40 - 6s - loss: 1.2005 - accuracy: 0.4859\n",
      "Epoch 72/100\n",
      "40/40 - 6s - loss: 1.2018 - accuracy: 0.4523\n",
      "Epoch 73/100\n",
      "40/40 - 6s - loss: 1.1990 - accuracy: 0.4711\n",
      "Epoch 74/100\n",
      "40/40 - 5s - loss: 1.2038 - accuracy: 0.4703\n",
      "Epoch 75/100\n",
      "40/40 - 6s - loss: 1.2098 - accuracy: 0.4727\n",
      "Epoch 76/100\n",
      "40/40 - 6s - loss: 1.1974 - accuracy: 0.4828\n",
      "Epoch 77/100\n",
      "40/40 - 6s - loss: 1.2013 - accuracy: 0.4742\n",
      "Epoch 78/100\n",
      "40/40 - 6s - loss: 1.2025 - accuracy: 0.4828\n",
      "Epoch 79/100\n",
      "40/40 - 6s - loss: 1.2042 - accuracy: 0.4719\n",
      "Epoch 80/100\n",
      "40/40 - 6s - loss: 1.1945 - accuracy: 0.4695\n",
      "Epoch 81/100\n",
      "40/40 - 6s - loss: 1.1997 - accuracy: 0.4617\n",
      "Epoch 82/100\n",
      "40/40 - 6s - loss: 1.1955 - accuracy: 0.4820\n",
      "Epoch 83/100\n",
      "40/40 - 6s - loss: 1.1941 - accuracy: 0.4844\n",
      "Epoch 84/100\n",
      "40/40 - 6s - loss: 1.2000 - accuracy: 0.4789\n",
      "Epoch 85/100\n",
      "40/40 - 6s - loss: 1.1966 - accuracy: 0.4766\n",
      "Epoch 86/100\n",
      "40/40 - 6s - loss: 1.2003 - accuracy: 0.4695\n",
      "Epoch 87/100\n",
      "40/40 - 6s - loss: 1.1970 - accuracy: 0.4648\n",
      "Epoch 88/100\n",
      "40/40 - 6s - loss: 1.2016 - accuracy: 0.4719\n",
      "Epoch 89/100\n",
      "40/40 - 6s - loss: 1.1982 - accuracy: 0.4898\n",
      "Epoch 90/100\n",
      "40/40 - 6s - loss: 1.2119 - accuracy: 0.4633\n",
      "Epoch 91/100\n",
      "40/40 - 6s - loss: 1.1930 - accuracy: 0.4961\n",
      "Epoch 92/100\n",
      "40/40 - 6s - loss: 1.2031 - accuracy: 0.4875\n",
      "Epoch 93/100\n",
      "40/40 - 6s - loss: 1.1950 - accuracy: 0.4859\n",
      "Epoch 94/100\n",
      "40/40 - 6s - loss: 1.2000 - accuracy: 0.4734\n",
      "Epoch 95/100\n",
      "40/40 - 6s - loss: 1.2034 - accuracy: 0.4859\n",
      "Epoch 96/100\n",
      "40/40 - 6s - loss: 1.2001 - accuracy: 0.4727\n",
      "Epoch 97/100\n",
      "40/40 - 6s - loss: 1.2038 - accuracy: 0.4672\n",
      "Epoch 98/100\n",
      "40/40 - 6s - loss: 1.1969 - accuracy: 0.4734\n",
      "Epoch 99/100\n",
      "40/40 - 6s - loss: 1.1991 - accuracy: 0.4680\n",
      "Epoch 100/100\n",
      "40/40 - 6s - loss: 1.2035 - accuracy: 0.4672\n"
     ]
    }
   ],
   "source": [
    "\n",
    "    #model = Glo.create_global_frame_selector(num_class = len(set(label)))\n",
    "    #print(model.summary())\n",
    "\n",
    "    checkpoint_callback = keras.callbacks.ModelCheckpoint(\n",
    "        \"global_selector.h5\",\n",
    "        monitor=\"accuracy\",\n",
    "        save_best_only=True,\n",
    "        #save_weights_only=True,\n",
    "    )\n",
    "    #es_callback = EarlyStopping(monitor='val_loss', patience=5)\n",
    "    \n",
    "    history = model.fit(\n",
    "        x=tf.convert_to_tensor(global_selector_pair_input),\n",
    "        y=tf.convert_to_tensor(final_label2),\n",
    "        batch_size=32,\n",
    "        epochs=100,\n",
    "        #validation_split=0.3,\n",
    "        verbose = 2,\n",
    "        callbacks=[checkpoint_callback]\n",
    "    )\n",
    "    hist_df = pd.DataFrame(history.history) \n",
    "    #result = [\"Evaluation result: \",\"loss: \"+ str(loss), \"accuracy: \"+ str(accuracy), \"elapsed_time: \"+ str(elapsed_time)]\n",
    "    #result = pd.DataFrame(result)\n",
    "    with open('global_selector_history.csv', mode='w') as f:\n",
    "        #result.to_csv(f)\n",
    "        hist_df.to_csv(f)"
   ]
  },
  {
   "cell_type": "code",
   "execution_count": 14,
   "metadata": {},
   "outputs": [
    {
     "data": {
      "text/plain": [
       "array([[ 3.9856553 ,  4.071913  , -2.7884288 , ..., -2.9726572 ,\n",
       "        -0.45769164, -2.0645354 ],\n",
       "       [ 3.9855614 ,  4.0718265 , -2.7884398 , ..., -2.9726481 ,\n",
       "        -0.4576096 , -2.0642607 ],\n",
       "       [ 3.985838  ,  4.072054  , -2.7884817 , ..., -2.9727323 ,\n",
       "        -0.4578036 , -2.0652378 ],\n",
       "       ...,\n",
       "       [ 2.7322524 ,  2.180417  , -5.463234  , ..., -2.378465  ,\n",
       "        -1.9420077 , 37.14533   ],\n",
       "       [ 2.7315967 ,  2.1798713 , -5.4641457 , ..., -2.3791642 ,\n",
       "        -1.9432226 , 37.142628  ],\n",
       "       [ 4.4068294 ,  3.801651  , -6.351592  , ..., -3.72792   ,\n",
       "        -1.5717124 , 35.152416  ]], dtype=float32)"
      ]
     },
     "execution_count": 14,
     "metadata": {},
     "output_type": "execute_result"
    }
   ],
   "source": [
    "    model.predict(global_selector_pair_input)"
   ]
  },
  {
   "cell_type": "code",
   "execution_count": null,
   "metadata": {},
   "outputs": [],
   "source": []
  }
 ],
 "metadata": {
  "kernelspec": {
   "display_name": "Python 2",
   "language": "python",
   "name": "python2"
  },
  "language_info": {
   "codemirror_mode": {
    "name": "ipython",
    "version": 2
   },
   "file_extension": ".py",
   "mimetype": "text/x-python",
   "name": "python",
   "nbconvert_exporter": "python",
   "pygments_lexer": "ipython2",
   "version": "2.7.16"
  }
 },
 "nbformat": 4,
 "nbformat_minor": 2
}
